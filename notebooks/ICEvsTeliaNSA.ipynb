{
 "cells": [
  {
   "cell_type": "code",
   "execution_count": 5,
   "id": "0d5ccacd-618f-4735-ac0b-505e717deb3e",
   "metadata": {},
   "outputs": [
    {
     "name": "stdout",
     "output_type": "stream",
     "text": [
      "ICE torget: 439.35375\n",
      "Telia torget 785.2805\n",
      "ICE home: 231.38\n",
      "Telia home 679.3031428571428\n"
     ]
    }
   ],
   "source": [
    "import pandas as pd\n",
    "import os\n",
    "import numpy as np\n",
    "import scipy.stats as st\n",
    "\n",
    "\n",
    "def get_df(file_path):\n",
    "    full_path = \"../logfiles/datasequence_logs/\"+file_path\n",
    "    df = pd.read_csv(full_path, sep=\"\\t\", engine=\"python\", on_bad_lines='skip')\n",
    "    return df\n",
    "\n",
    "#Day 1 testing ICE sim-card (commercial) against Telia both on NSA 5G\n",
    "df1 = get_df(\"/NSA_ICEvsTelia/icelerkendal_datatest.txt\")\n",
    "\n",
    "\n",
    "\n",
    "#Day 2 testing ICE sim-card(non commercial) against Telia both on NSA 5G\n",
    "df1 = get_df(\"/NSA_ICEvsTelia2/icetorget2_datatest.txt\")\n",
    "df2 = get_df(\"/NSA_ICEvsTelia2/teliatorget_datatest.txt\")\n",
    "df3 = get_df(\"/NSA_ICEvsTelia2/teliahjemme_datatest.txt\")\n",
    "df4 = get_df(\"/NSA_ICEvsTelia2/icehjemme_datatest.txt\")\n",
    "\n",
    "\n",
    "\n",
    "print(\"ICE torget:\", np.mean(df1[\"TESTDOWNLINK\"])/1000)\n",
    "print(\"Telia torget\", np.mean(df2[\"TESTDOWNLINK\"])/1000)\n",
    "print(\"ICE home:\", np.mean(df3[\"TESTDOWNLINK\"])/1000)\n",
    "print(\"Telia home\", np.mean(df4[\"TESTDOWNLINK\"])/1000)\n",
    "\n",
    "\n"
   ]
  },
  {
   "cell_type": "code",
   "execution_count": null,
   "id": "a756eefb-684d-40be-81c8-b2f8a7f2e9cc",
   "metadata": {},
   "outputs": [],
   "source": []
  }
 ],
 "metadata": {
  "kernelspec": {
   "display_name": "Python 3 (ipykernel)",
   "language": "python",
   "name": "python3"
  },
  "language_info": {
   "codemirror_mode": {
    "name": "ipython",
    "version": 3
   },
   "file_extension": ".py",
   "mimetype": "text/x-python",
   "name": "python",
   "nbconvert_exporter": "python",
   "pygments_lexer": "ipython3",
   "version": "3.12.7"
  }
 },
 "nbformat": 4,
 "nbformat_minor": 5
}
